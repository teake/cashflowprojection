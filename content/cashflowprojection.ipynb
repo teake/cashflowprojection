{
 "cells": [
  {
   "cell_type": "markdown",
   "id": "6e293d39-0a46-4c5f-8a27-97d8e6d04a9a",
   "metadata": {},
   "source": [
    "# Cash Flow Projection example"
   ]
  },
  {
   "cell_type": "markdown",
   "id": "51e7e938-b020-421b-9703-e17f2710f115",
   "metadata": {},
   "source": [
    "This notebook computes a simplified cash flow projection for a temporary retirement pension with a capital of €100.000,- that start in two years and stops in ten.\n",
    "\n",
    "The simplified formula we'll use for computing the actuarial factor $F$ is:\n",
    "\n",
    "$$\n",
    "F_i = \\sum_{t=0}^\\infty \\sum_{j=1}^n Q^{\\textrm{cum}}_{ij}(t) P_j(t) D(t)\n",
    "$$\n",
    "where $Q^{\\textrm{cum}}$ are the cumulative transition matrices, $P$ are the unit payments, and $D$ is the discounted value based on an interest curve. We'll assume a yearly interest of 5% and a constant mortality rate of 10%."
   ]
  },
  {
   "cell_type": "code",
   "execution_count": 1,
   "id": "98a1f2be-fb3a-449f-b7e7-6b8935eedabe",
   "metadata": {},
   "outputs": [],
   "source": [
    "import numpy as np\n",
    "import itertools as it\n",
    "\n",
    "np.set_printoptions(precision=2)"
   ]
  },
  {
   "cell_type": "markdown",
   "id": "e477d159-6c31-4091-a362-0849dc078ae6",
   "metadata": {},
   "source": [
    "## Unit payments"
   ]
  },
  {
   "cell_type": "code",
   "execution_count": 2,
   "id": "48a97962-fdb0-4e89-a0c6-e26da6f1dc10",
   "metadata": {},
   "outputs": [
    {
     "data": {
      "text/plain": [
       "array([[0, 0],\n",
       "       [0, 0],\n",
       "       [1, 0],\n",
       "       [1, 0],\n",
       "       [1, 0],\n",
       "       [1, 0],\n",
       "       [1, 0],\n",
       "       [1, 0],\n",
       "       [1, 0],\n",
       "       [1, 0]])"
      ]
     },
     "execution_count": 2,
     "metadata": {},
     "output_type": "execute_result"
    }
   ],
   "source": [
    "# Input unit payments\n",
    "P = np.array([[0,0]] * 2 + [[1, 0]] * 8)\n",
    "P"
   ]
  },
  {
   "cell_type": "markdown",
   "id": "5c1784ce-1153-480f-8ed4-dc60da3f2cda",
   "metadata": {},
   "source": [
    "## Interest"
   ]
  },
  {
   "cell_type": "code",
   "execution_count": 3,
   "id": "93831570-3b74-4e1d-9515-35cfa8bd9c44",
   "metadata": {},
   "outputs": [
    {
     "data": {
      "text/plain": [
       "array([1.05, 1.05, 1.05, 1.05, 1.05, 1.05, 1.05, 1.05, 1.05, 1.05])"
      ]
     },
     "execution_count": 3,
     "metadata": {},
     "output_type": "execute_result"
    }
   ],
   "source": [
    "# Input interest\n",
    "i = np.array([1.05] * 10)\n",
    "i"
   ]
  },
  {
   "cell_type": "code",
   "execution_count": 5,
   "id": "6631d737-3c52-419e-a1a3-bd51fb16e0d6",
   "metadata": {},
   "outputs": [
    {
     "data": {
      "text/plain": [
       "array([1.05, 1.1 , 1.16, 1.22, 1.28, 1.34, 1.41, 1.48, 1.55, 1.63])"
      ]
     },
     "execution_count": 5,
     "metadata": {},
     "output_type": "execute_result"
    }
   ],
   "source": [
    "# Cumulative interest\n",
    "# Naive approach\n",
    "i_cum = [i[0]]\n",
    "for t in range(len(i) - 1):\n",
    "    i_cum.append(i[t + 1] * i_cum[t])\n",
    "np.array(i_cum)"
   ]
  },
  {
   "cell_type": "code",
   "execution_count": 6,
   "id": "ee42d943-024e-45c3-823e-1f7036ca1217",
   "metadata": {},
   "outputs": [
    {
     "data": {
      "text/plain": [
       "array([1.05, 1.1 , 1.16, 1.22, 1.28, 1.34, 1.41, 1.48, 1.55, 1.63])"
      ]
     },
     "execution_count": 6,
     "metadata": {},
     "output_type": "execute_result"
    }
   ],
   "source": [
    "# Cumulative interest\n",
    "# Using a universal function!\n",
    "i_cum = np.multiply.accumulate(i)\n",
    "i_cum"
   ]
  },
  {
   "cell_type": "code",
   "execution_count": 45,
   "id": "2add6c57-316c-42ea-bb9a-49de25b111b8",
   "metadata": {},
   "outputs": [
    {
     "data": {
      "text/plain": [
       "array([0.95, 0.91, 0.86, 0.82, 0.78, 0.75, 0.71, 0.68, 0.64, 0.61])"
      ]
     },
     "execution_count": 45,
     "metadata": {},
     "output_type": "execute_result"
    }
   ],
   "source": [
    "# Discounted value. Notice the implicit broadcasting and ufunc.\n",
    "D = 1.0 / i_cum\n",
    "D"
   ]
  },
  {
   "cell_type": "markdown",
   "id": "b564ce3c-28d7-45be-806a-8c714731f706",
   "metadata": {},
   "source": [
    "## Transition probabilities"
   ]
  },
  {
   "cell_type": "code",
   "execution_count": 8,
   "id": "a9ce4133-5fc0-4152-9cba-d26cfcfa5fca",
   "metadata": {},
   "outputs": [
    {
     "data": {
      "text/plain": [
       "array([[0.1, 0.1, 0.1, ..., 0.1, 0.1, 0.1],\n",
       "       [0.1, 0.1, 0.1, ..., 0.1, 0.1, 0.1],\n",
       "       [0.1, 0.1, 0.1, ..., 0.1, 0.1, 0.1],\n",
       "       ...,\n",
       "       [0.1, 0.1, 0.1, ..., 0.1, 0.1, 0.1],\n",
       "       [0.1, 0.1, 0.1, ..., 0.1, 0.1, 0.1],\n",
       "       [0.1, 0.1, 0.1, ..., 0.1, 0.1, 0.1]])"
      ]
     },
     "execution_count": 8,
     "metadata": {},
     "output_type": "execute_result"
    }
   ],
   "source": [
    "# Input mortality table (calendar years x ages)\n",
    "m = np.array(100 * [100 * [0.1]])\n",
    "m"
   ]
  },
  {
   "cell_type": "code",
   "execution_count": 9,
   "id": "4c35a067-f1bd-486d-9224-182db9111ebb",
   "metadata": {},
   "outputs": [
    {
     "data": {
      "text/plain": [
       "[0.1, 0.1, 0.1, 0.1, 0.1, 0.1, 0.1, 0.1, 0.1, 0.1]"
      ]
     },
     "execution_count": 9,
     "metadata": {},
     "output_type": "execute_result"
    }
   ],
   "source": [
    "# Mortality rate for age 42\n",
    "# Naive iterative approach.\n",
    "q = []\n",
    "for t in range(10):\n",
    "    q.append(m[t, t + 42])\n",
    "q"
   ]
  },
  {
   "cell_type": "code",
   "execution_count": 10,
   "id": "a7e5dcb6-0697-4fbe-9977-5c8499681c8d",
   "metadata": {},
   "outputs": [
    {
     "data": {
      "text/plain": [
       "array([0.1, 0.1, 0.1, 0.1, 0.1, 0.1, 0.1, 0.1, 0.1, 0.1])"
      ]
     },
     "execution_count": 10,
     "metadata": {},
     "output_type": "execute_result"
    }
   ],
   "source": [
    "# Mortality rate for age 42\n",
    "# Avoiding loops!\n",
    "q = np.diagonal(m, 42)[:10]\n",
    "q"
   ]
  },
  {
   "cell_type": "code",
   "execution_count": 11,
   "id": "7e148306-7ab7-4331-a470-d4a73a949975",
   "metadata": {},
   "outputs": [],
   "source": [
    "# Surival rates\n",
    "p = 1.0 - q"
   ]
  },
  {
   "cell_type": "code",
   "execution_count": 12,
   "id": "0335c687-d0f9-49b9-9dce-5d9ffca26469",
   "metadata": {},
   "outputs": [
    {
     "data": {
      "text/plain": [
       "array([[[0.9, 0.1],\n",
       "        [0. , 1. ]],\n",
       "\n",
       "       [[0.9, 0.1],\n",
       "        [0. , 1. ]],\n",
       "\n",
       "       [[0.9, 0.1],\n",
       "        [0. , 1. ]],\n",
       "\n",
       "       [[0.9, 0.1],\n",
       "        [0. , 1. ]],\n",
       "\n",
       "       [[0.9, 0.1],\n",
       "        [0. , 1. ]],\n",
       "\n",
       "       [[0.9, 0.1],\n",
       "        [0. , 1. ]],\n",
       "\n",
       "       [[0.9, 0.1],\n",
       "        [0. , 1. ]],\n",
       "\n",
       "       [[0.9, 0.1],\n",
       "        [0. , 1. ]],\n",
       "\n",
       "       [[0.9, 0.1],\n",
       "        [0. , 1. ]],\n",
       "\n",
       "       [[0.9, 0.1],\n",
       "        [0. , 1. ]]])"
      ]
     },
     "execution_count": 12,
     "metadata": {},
     "output_type": "execute_result"
    }
   ],
   "source": [
    "# Transition probablities matrices\n",
    "# Don't construct arrays by hand!\n",
    "q_11 = p\n",
    "q_12 = 1.0 - p\n",
    "q_21 = np.zeros_like(p)\n",
    "q_22 = np.ones_like(p)\n",
    "Q = np.column_stack([q_11, q_12, q_21, q_22]).reshape(-1, 2, 2)\n",
    "Q"
   ]
  },
  {
   "cell_type": "code",
   "execution_count": 13,
   "id": "36821d4d-8732-4e16-9c78-dbb02aa23e54",
   "metadata": {},
   "outputs": [
    {
     "ename": "RuntimeError",
     "evalue": "Reduction not defined on ufunc with signature",
     "output_type": "error",
     "traceback": [
      "\u001b[31m---------------------------------------------------------------------------\u001b[39m",
      "\u001b[31mRuntimeError\u001b[39m                              Traceback (most recent call last)",
      "\u001b[36mCell\u001b[39m\u001b[36m \u001b[39m\u001b[32mIn[13]\u001b[39m\u001b[32m, line 2\u001b[39m\n\u001b[32m      1\u001b[39m \u001b[38;5;66;03m# Cumulative transition probabilities\u001b[39;00m\n\u001b[32m----> \u001b[39m\u001b[32m2\u001b[39m \u001b[43mnp\u001b[49m\u001b[43m.\u001b[49m\u001b[43mmatmul\u001b[49m\u001b[43m.\u001b[49m\u001b[43maccumulate\u001b[49m\u001b[43m(\u001b[49m\u001b[43mQ\u001b[49m\u001b[43m)\u001b[49m\n",
      "\u001b[31mRuntimeError\u001b[39m: Reduction not defined on ufunc with signature"
     ]
    }
   ],
   "source": [
    "# Cumulative transition probabilities\n",
    "np.matmul.accumulate(Q)"
   ]
  },
  {
   "cell_type": "code",
   "execution_count": 44,
   "id": "21071967-9573-4782-87a5-be043dd59e10",
   "metadata": {},
   "outputs": [
    {
     "data": {
      "text/plain": [
       "array([0.9 , 0.81, 0.73, 0.66, 0.59, 0.53, 0.48, 0.43, 0.39, 0.35])"
      ]
     },
     "execution_count": 44,
     "metadata": {},
     "output_type": "execute_result"
    }
   ],
   "source": [
    "# That didn't work. We can cheat by reducing the problem to scalar multiplication.\n",
    "# Notice the fancy indexing to only select the upper-left element of all matrices.\n",
    "np.multiply.accumulate(Q[::,0,0])"
   ]
  },
  {
   "cell_type": "code",
   "execution_count": 43,
   "id": "a5113793-a4f3-4663-83a0-485973bd2d83",
   "metadata": {},
   "outputs": [
    {
     "data": {
      "text/plain": [
       "array([[[0.9 , 0.1 ],\n",
       "        [0.  , 1.  ]],\n",
       "\n",
       "       [[0.81, 0.19],\n",
       "        [0.  , 1.  ]],\n",
       "\n",
       "       [[0.73, 0.27],\n",
       "        [0.  , 1.  ]],\n",
       "\n",
       "       [[0.66, 0.34],\n",
       "        [0.  , 1.  ]],\n",
       "\n",
       "       [[0.59, 0.41],\n",
       "        [0.  , 1.  ]],\n",
       "\n",
       "       [[0.53, 0.47],\n",
       "        [0.  , 1.  ]],\n",
       "\n",
       "       [[0.48, 0.52],\n",
       "        [0.  , 1.  ]],\n",
       "\n",
       "       [[0.43, 0.57],\n",
       "        [0.  , 1.  ]],\n",
       "\n",
       "       [[0.39, 0.61],\n",
       "        [0.  , 1.  ]],\n",
       "\n",
       "       [[0.35, 0.65],\n",
       "        [0.  , 1.  ]]])"
      ]
     },
     "execution_count": 43,
     "metadata": {},
     "output_type": "execute_result"
    }
   ],
   "source": [
    "# But we want full matrix multiplication. Let's do it by hand whilst avoiding a loop.\n",
    "Q_cum = np.array(list(it.accumulate(Q, np.matmul)))\n",
    "Q_cum"
   ]
  },
  {
   "cell_type": "markdown",
   "id": "dba673db-1021-4d19-8840-40a97e6eee43",
   "metadata": {},
   "source": [
    "## Actuarial factor"
   ]
  },
  {
   "cell_type": "code",
   "execution_count": 46,
   "id": "97a7b18d-93ac-4c64-918d-eca55ade5925",
   "metadata": {},
   "outputs": [
    {
     "ename": "ValueError",
     "evalue": "matmul: Input operand 1 has a mismatch in its core dimension 0, with gufunc signature (n?,k),(k,m?)->(n?,m?) (size 10 is different from 2)",
     "output_type": "error",
     "traceback": [
      "\u001b[31m---------------------------------------------------------------------------\u001b[39m",
      "\u001b[31mValueError\u001b[39m                                Traceback (most recent call last)",
      "\u001b[36mCell\u001b[39m\u001b[36m \u001b[39m\u001b[32mIn[46]\u001b[39m\u001b[32m, line 2\u001b[39m\n\u001b[32m      1\u001b[39m \u001b[38;5;66;03m# Naively try to compute the cash flow\u001b[39;00m\n\u001b[32m----> \u001b[39m\u001b[32m2\u001b[39m C = \u001b[43mQ_cum\u001b[49m\u001b[43m \u001b[49m\u001b[43m@\u001b[49m\u001b[43m \u001b[49m\u001b[43mP\u001b[49m * D\n",
      "\u001b[31mValueError\u001b[39m: matmul: Input operand 1 has a mismatch in its core dimension 0, with gufunc signature (n?,k),(k,m?)->(n?,m?) (size 10 is different from 2)"
     ]
    }
   ],
   "source": [
    "# Naively try to compute the cash flow\n",
    "C = Q_cum @ P * D"
   ]
  },
  {
   "cell_type": "code",
   "execution_count": 25,
   "id": "af59883b-e158-4da8-8ce8-1f6b89f52a68",
   "metadata": {},
   "outputs": [
    {
     "data": {
      "text/plain": [
       "array([[0.  , 0.  ],\n",
       "       [0.  , 0.  ],\n",
       "       [0.63, 0.  ],\n",
       "       [0.54, 0.  ],\n",
       "       [0.46, 0.  ],\n",
       "       [0.4 , 0.  ],\n",
       "       [0.34, 0.  ],\n",
       "       [0.29, 0.  ],\n",
       "       [0.25, 0.  ],\n",
       "       [0.21, 0.  ]])"
      ]
     },
     "execution_count": 25,
     "metadata": {},
     "output_type": "execute_result"
    }
   ],
   "source": [
    "# That didn't work because NumPy doesn't know it should this element-wise for each time t. \n",
    "# So do tell it explicitly to do so:\n",
    "C = np.array([Q_cum[t] @ P[t] * D[t] for t in range(10)])\n",
    "C"
   ]
  },
  {
   "cell_type": "code",
   "execution_count": 29,
   "id": "9ef28187-cb82-46b5-bf98-60164866cb1b",
   "metadata": {},
   "outputs": [
    {
     "data": {
      "text/plain": [
       "array([[0.  , 0.  ],\n",
       "       [0.  , 0.  ],\n",
       "       [0.63, 0.  ],\n",
       "       [0.54, 0.  ],\n",
       "       [0.46, 0.  ],\n",
       "       [0.4 , 0.  ],\n",
       "       [0.34, 0.  ],\n",
       "       [0.29, 0.  ],\n",
       "       [0.25, 0.  ],\n",
       "       [0.21, 0.  ]])"
      ]
     },
     "execution_count": 29,
     "metadata": {},
     "output_type": "execute_result"
    }
   ],
   "source": [
    "# We can loose the loop by using np.einsum()!\n",
    "C = np.einsum(\"tij,tj,t->ti\", Q_cum, P, D)\n",
    "C"
   ]
  },
  {
   "cell_type": "code",
   "execution_count": 30,
   "id": "48ddadc9-1881-4500-ad4b-6f4fa5b65648",
   "metadata": {},
   "outputs": [
    {
     "data": {
      "text/plain": [
       "array([3.12, 0.  ])"
      ]
     },
     "execution_count": 30,
     "metadata": {},
     "output_type": "execute_result"
    }
   ],
   "source": [
    "# And the factor is:\n",
    "F = C.sum(axis=0)\n",
    "F"
   ]
  },
  {
   "cell_type": "markdown",
   "id": "ef7eb383-97eb-4901-b34e-c1a783015572",
   "metadata": {},
   "source": [
    "## Expected payments"
   ]
  },
  {
   "cell_type": "code",
   "execution_count": 31,
   "id": "678c9ded-acb9-4f5b-966e-247d3baac57a",
   "metadata": {},
   "outputs": [
    {
     "data": {
      "text/plain": [
       "32012.155689580944"
      ]
     },
     "execution_count": 31,
     "metadata": {},
     "output_type": "execute_result"
    }
   ],
   "source": [
    "# Example capital of € 100.000,-.\n",
    "# The yearly benefit is the capital divided by the actuarial factor.\n",
    "B = 100_000 / F[0]\n",
    "B"
   ]
  },
  {
   "cell_type": "code",
   "execution_count": 36,
   "id": "109dfe88-fbd7-4abc-aed1-d368d60a25d7",
   "metadata": {},
   "outputs": [
    {
     "data": {
      "text/plain": [
       "array([[    0.  ,     0.  ],\n",
       "       [    0.  ,     0.  ],\n",
       "       [23336.86,     0.  ],\n",
       "       [21003.18,     0.  ],\n",
       "       [18902.86,     0.  ],\n",
       "       [17012.57,     0.  ],\n",
       "       [15311.31,     0.  ],\n",
       "       [13780.18,     0.  ],\n",
       "       [12402.17,     0.  ],\n",
       "       [11161.95,     0.  ]])"
      ]
     },
     "execution_count": 36,
     "metadata": {},
     "output_type": "execute_result"
    }
   ],
   "source": [
    "# Expected payments in the cash flow are undiscounted, so remove the discount.\n",
    "forecast = B * np.einsum(\"ti,t->ti\", C, 1 / D)\n",
    "forecast"
   ]
  },
  {
   "cell_type": "code",
   "execution_count": 37,
   "id": "9225d403-4bcb-4423-a25a-83444af0b0df",
   "metadata": {},
   "outputs": [
    {
     "data": {
      "text/plain": [
       "array([132911.08,      0.  ])"
      ]
     },
     "execution_count": 37,
     "metadata": {},
     "output_type": "execute_result"
    }
   ],
   "source": [
    "# Expected total payment:\n",
    "forecast.sum(axis=0)"
   ]
  }
 ],
 "metadata": {
  "kernelspec": {
   "display_name": "Python 3 (ipykernel)",
   "language": "python",
   "name": "python3"
  },
  "language_info": {
   "codemirror_mode": {
    "name": "ipython",
    "version": 3
   },
   "file_extension": ".py",
   "mimetype": "text/x-python",
   "name": "python",
   "nbconvert_exporter": "python",
   "pygments_lexer": "ipython3",
   "version": "3.11.11"
  }
 },
 "nbformat": 4,
 "nbformat_minor": 5
}
