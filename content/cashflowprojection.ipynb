{
 "cells": [
  {
   "cell_type": "markdown",
   "id": "6e293d39-0a46-4c5f-8a27-97d8e6d04a9a",
   "metadata": {},
   "source": [
    "# Pension Cash Flow Forecast with NumPy"
   ]
  },
  {
   "cell_type": "markdown",
   "id": "7a6f553a-2f41-4a85-baee-0b3c7ea40802",
   "metadata": {},
   "source": [
    "Hi PyGrunn 2025! 👋"
   ]
  },
  {
   "cell_type": "markdown",
   "id": "dfa1fac9-5e32-4903-8afe-796782c82e0e",
   "metadata": {},
   "source": [
    "## Introduction"
   ]
  },
  {
   "attachments": {},
   "cell_type": "markdown",
   "id": "51e7e938-b020-421b-9703-e17f2710f115",
   "metadata": {},
   "source": [
    "This notebook computes the cash flow forecast for a temporary retirement pension with:\n",
    "\n",
    "- a capital of €100.000,-\n",
    "- payments that start in two years, run for eight, and stop in ten\n",
    "- payments that occur at the end of the year\n",
    "- a yearly interest of 5%\n",
    "- and a constant mortality rate of 10%.\n",
    "\n",
    "We'll reproduce the following table with NumPy:\n",
    "\n",
    "| **Year**  | **Unit payment** | **Chance of survival** | **Cumulative chance of survival** | **Expected unit payment** | **Interest** | **Cumulative interest** | **Discounted expected unit payment** | **Forecast** |\n",
    "| --------- | ---------------- | ---------------------- | --------------------------------- | ------------------------- | ------------ | ----------------------- | ------------------------------------ | ------------ |\n",
    "| **1**     | 0                | 90%                    | 90%                               | 0,00                      | 5%           | 5%                      | 0,00                                 | € 0          |\n",
    "| **2**     | 0                | 90%                    | 81%                               | 0,00                      | 5%           | 10%                     | 0,00                                 | € 0          |\n",
    "| **3**     | 1                | 90%                    | 73%                               | 0,73                      | 5%           | 16%                     | 0,63                                 | € 23.337     |\n",
    "| **4**     | 1                | 90%                    | 66%                               | 0,66                      | 5%           | 22%                     | 0,54                                 | € 21.003     |\n",
    "| **5**     | 1                | 90%                    | 59%                               | 0,59                      | 5%           | 28%                     | 0,46                                 | € 18.903     |\n",
    "| **6**     | 1                | 90%                    | 53%                               | 0,53                      | 5%           | 34%                     | 0,40                                 | € 17.013     |\n",
    "| **7**     | 1                | 90%                    | 48%                               | 0,48                      | 5%           | 41%                     | 0,34                                 | € 15.311     |\n",
    "| **8**     | 1                | 90%                    | 43%                               | 0,43                      | 5%           | 48%                     | 0,29                                 | € 13.780     |\n",
    "| **9**     | 1                | 90%                    | 39%                               | 0,39                      | 5%           | 55%                     | 0,25                                 | € 12.402     |\n",
    "| **10**    | 1                | 90%                    | 35%                               | 0,35                      | 5%           | 63%                     | 0,21                                 | € 11.162     |\n",
    "| **Total** |                  |                        |                                   |                           |              |                         | **3,12**                             | € 132.911    |\n",
    "\n",
    "\n",
    "The actuarial factor $F$ is equal to the total discounted expected unit payment. The simplified formula we'll use for computing $F$ is as follows:\n",
    "$$\n",
    "F_i = \\sum_{t=0}^\\infty \\sum_{j=1}^n Q^{\\textrm{cum}}_{ij}(t) P_j(t) D(t)\n",
    "$$\n",
    "where $Q^{\\textrm{cum}}$ are $2 \\times 2$ cumulative transition matrices, $P$ are the unit payment vectors, and $D$ is the discounted value based on an interest curve. The indices $i,j$ run over the possible $n=2$ states, namely participant alive ($i=1$) and participant deceased ($i=2$).\n",
    "\n",
    "Note that we explicitly compute the factor for the absorbing and non-paying state $i=2$. This is not strictly necessary, as we could restrict the states to only $i=1$ and use scalar computation instead. But we take both states into account to illustrate the linear algebra capabilities of NumPy. (Moreover, if one were to compute a more complicated product with more states, e.g. a partner pension, working with transition matrices becomes mandatory)."
   ]
  },
  {
   "cell_type": "markdown",
   "id": "7b1868e8-459f-48e5-861b-df9ec7a05b44",
   "metadata": {},
   "source": [
    "Ok, that's enough talk for now. Let's start by importing NumPy and the `itertools` package from the stdlib. We'll also restrict to only two decimals for printouts."
   ]
  },
  {
   "cell_type": "code",
   "execution_count": 1,
   "id": "98a1f2be-fb3a-449f-b7e7-6b8935eedabe",
   "metadata": {},
   "outputs": [],
   "source": [
    "import numpy as np\n",
    "import itertools as it\n",
    "\n",
    "np.set_printoptions(precision=2)"
   ]
  },
  {
   "cell_type": "markdown",
   "id": "bfd7ce12-3f7d-4beb-a444-259ead8fd102",
   "metadata": {},
   "source": [
    "This notebook is structured as follows:\n",
    "\n",
    "- We'll start by computing the discount value $D$,\n",
    "- move on to the unit payment vectors $P$,\n",
    "- then the cumulative transition matrices $Q^{\\textrm{cum}}$,\n",
    "- and finish by putting that all together for the factor $F$."
   ]
  },
  {
   "cell_type": "markdown",
   "id": "5c1784ce-1153-480f-8ed4-dc60da3f2cda",
   "metadata": {},
   "source": [
    "## Interest"
   ]
  },
  {
   "cell_type": "markdown",
   "id": "ed1a8d38-46a0-4359-a07f-1c468c8684c1",
   "metadata": {},
   "source": [
    "Let's start by putting in the fixed 5% interest by hand:"
   ]
  },
  {
   "cell_type": "code",
   "execution_count": 2,
   "id": "93831570-3b74-4e1d-9515-35cfa8bd9c44",
   "metadata": {},
   "outputs": [
    {
     "data": {
      "text/plain": [
       "array([0.05, 0.05, 0.05, 0.05, 0.05, 0.05, 0.05, 0.05, 0.05, 0.05])"
      ]
     },
     "execution_count": 2,
     "metadata": {},
     "output_type": "execute_result"
    }
   ],
   "source": [
    "i = np.array([0.05] * 10)\n",
    "i"
   ]
  },
  {
   "cell_type": "markdown",
   "id": "88a8fa53-5984-42a5-85eb-508f2e8eb23a",
   "metadata": {},
   "source": [
    "We need to compute the year-by-year accumulated interest. We can do this very naively with a loop:"
   ]
  },
  {
   "cell_type": "code",
   "execution_count": 3,
   "id": "7cca96e3-32b7-4cb0-bff7-81376d1af500",
   "metadata": {},
   "outputs": [
    {
     "data": {
      "text/plain": [
       "array([0.05, 0.1 , 0.16, 0.22, 0.28, 0.34, 0.41, 0.48, 0.55, 0.63])"
      ]
     },
     "execution_count": 3,
     "metadata": {},
     "output_type": "execute_result"
    }
   ],
   "source": [
    "i_cum = []\n",
    "prev = 1.0\n",
    "for x in i + 1.0:\n",
    "    i_cum.append(prev := x * prev)\n",
    "np.array(i_cum) - 1.0"
   ]
  },
  {
   "cell_type": "markdown",
   "id": "da7aa379-0a70-48f4-b65e-191e98db6254",
   "metadata": {},
   "source": [
    "While this makes use of [broadcasting](https://numpy.org/doc/stable/user/basics.broadcasting.html) with the addition and subtraction of `1.0`, we can do clearly better and get rid of the explicit loop with [itertools.accumulate](https://docs.python.org/3/library/itertools.html#itertools.accumulate):"
   ]
  },
  {
   "cell_type": "code",
   "execution_count": 4,
   "id": "2dbded6e-ac0c-4889-986d-744213b918a8",
   "metadata": {},
   "outputs": [
    {
     "data": {
      "text/plain": [
       "array([0.05, 0.1 , 0.16, 0.22, 0.28, 0.34, 0.41, 0.48, 0.55, 0.63])"
      ]
     },
     "execution_count": 4,
     "metadata": {},
     "output_type": "execute_result"
    }
   ],
   "source": [
    "np.array(list(it.accumulate(i + 1.0, np.multiply))) - 1.0"
   ]
  },
  {
   "cell_type": "markdown",
   "id": "5b723a6a-41bf-4535-a20f-3ca2baa039b5",
   "metadata": {},
   "source": [
    "But [itertools.accumulate](https://docs.python.org/3/library/itertools.html#itertools.accumulate) still evaluates the loop in the Python interpreter. We can do one better still, and use a NumPy [universal function](https://numpy.org/doc/stable/reference/ufuncs.html) to push the computation down to C BLAS / LAPACK level:"
   ]
  },
  {
   "cell_type": "code",
   "execution_count": 5,
   "id": "ee42d943-024e-45c3-823e-1f7036ca1217",
   "metadata": {},
   "outputs": [
    {
     "data": {
      "text/plain": [
       "array([0.05, 0.1 , 0.16, 0.22, 0.28, 0.34, 0.41, 0.48, 0.55, 0.63])"
      ]
     },
     "execution_count": 5,
     "metadata": {},
     "output_type": "execute_result"
    }
   ],
   "source": [
    "i_cum = np.multiply.accumulate(i + 1.0) - 1.0\n",
    "i_cum"
   ]
  },
  {
   "cell_type": "markdown",
   "id": "74547e50-90a3-4b64-b78c-f23ec14b70f8",
   "metadata": {},
   "source": [
    "### Speed comparison"
   ]
  },
  {
   "cell_type": "markdown",
   "id": "ea6508cb-3cdd-4ff9-b979-d3d3f3eb2b4b",
   "metadata": {},
   "source": [
    "Not only is `np.multiply.accumulate` more concise, it is also faster:"
   ]
  },
  {
   "cell_type": "code",
   "execution_count": 6,
   "id": "a4ff6d3d-ea66-4f0d-83c9-008d022178a5",
   "metadata": {},
   "outputs": [
    {
     "name": "stdout",
     "output_type": "stream",
     "text": [
      "4.74 μs ± 103 ns per loop (mean ± std. dev. of 7 runs, 100,000 loops each)\n"
     ]
    }
   ],
   "source": [
    "%timeit np.array(list(it.accumulate(i + 1.0, np.multiply))) - 1.0"
   ]
  },
  {
   "cell_type": "code",
   "execution_count": 7,
   "id": "f31436b5-0c7d-4960-8e3f-ce083228db75",
   "metadata": {},
   "outputs": [
    {
     "name": "stdout",
     "output_type": "stream",
     "text": [
      "942 ns ± 19.2 ns per loop (mean ± std. dev. of 7 runs, 1,000,000 loops each)\n"
     ]
    }
   ],
   "source": [
    "%timeit np.multiply.accumulate(i + 1.0) - 1.0"
   ]
  },
  {
   "cell_type": "markdown",
   "id": "6dce5c5a-fc95-4c5b-a218-44506c9aa73c",
   "metadata": {},
   "source": [
    "That's about 5 times faster! Because the input array is small, there's relatively much time spent on overhead. With larger arrays, the speed difference becomes more prominent."
   ]
  },
  {
   "cell_type": "markdown",
   "id": "c6eb2969-5f05-4b9d-8654-12cb98616f4d",
   "metadata": {},
   "source": [
    "### Discounted value"
   ]
  },
  {
   "cell_type": "markdown",
   "id": "9d2bfdc4-9ead-496d-bbc8-4849c1c2ad65",
   "metadata": {},
   "source": [
    "And now finally the discounted value per year becomes the following:"
   ]
  },
  {
   "cell_type": "code",
   "execution_count": 8,
   "id": "2add6c57-316c-42ea-bb9a-49de25b111b8",
   "metadata": {},
   "outputs": [
    {
     "data": {
      "text/plain": [
       "array([0.95, 0.91, 0.86, 0.82, 0.78, 0.75, 0.71, 0.68, 0.64, 0.61])"
      ]
     },
     "execution_count": 8,
     "metadata": {},
     "output_type": "execute_result"
    }
   ],
   "source": [
    "D = 1.0 / (i_cum + 1.0)\n",
    "D"
   ]
  },
  {
   "cell_type": "markdown",
   "id": "65193eb5-40ba-4cf1-a365-93dea60e1ce8",
   "metadata": {},
   "source": [
    "## Unit payments"
   ]
  },
  {
   "cell_type": "markdown",
   "id": "cf1579f1-ffdf-4814-bddb-6a004dbae4cd",
   "metadata": {},
   "source": [
    "Okay, so let's now construct the list of unit payment vectors by hand. (You'd normally construct this list from a given start date and a given end date).\n",
    "\n",
    "The first two years are non-paying, while the last eight years are paying. But only in state 1 (alive); state 2 (deceased) does not give a payment. A single payment vector $P_i$ is thus `[1, 0]`. To build the full list $P(t)_i$ of payment vectors for all ten years, we can simply take the outer product of the payment vector with a list $\\delta_t$ containing zeroes for non-paying years, and ones for paying years:\n",
    "\n",
    "$$\n",
    "P_i(t) = \\delta_t \\otimes P_i\n",
    "$$\n",
    "\n",
    "This can be done with [numpy.outer](https://numpy.org/doc/stable/reference/generated/numpy.outer.html):"
   ]
  },
  {
   "cell_type": "code",
   "execution_count": 9,
   "id": "18b8ee4f-58d6-4bef-aa67-8904bd030533",
   "metadata": {},
   "outputs": [
    {
     "data": {
      "text/plain": [
       "array([[0, 0],\n",
       "       [0, 0],\n",
       "       [1, 0],\n",
       "       [1, 0],\n",
       "       [1, 0],\n",
       "       [1, 0],\n",
       "       [1, 0],\n",
       "       [1, 0],\n",
       "       [1, 0],\n",
       "       [1, 0]])"
      ]
     },
     "execution_count": 9,
     "metadata": {},
     "output_type": "execute_result"
    }
   ],
   "source": [
    "P = np.outer([0, 0, 1, 1, 1, 1, 1, 1, 1, 1], [1, 0])\n",
    "P"
   ]
  },
  {
   "cell_type": "markdown",
   "id": "2dfd4773-c1e1-4ddd-82f5-9ded837b8773",
   "metadata": {},
   "source": [
    "But there's more than one way to skin a cat. We can also use the [numpy.einsum](https://numpy.org/doc/stable/reference/generated/numpy.einsum.html) method to compute the outer product:"
   ]
  },
  {
   "cell_type": "code",
   "execution_count": 11,
   "id": "2a25cb49-c2ff-4db6-b5b0-4842563c87dd",
   "metadata": {},
   "outputs": [
    {
     "data": {
      "text/plain": [
       "array([[0, 0],\n",
       "       [0, 0],\n",
       "       [1, 0],\n",
       "       [1, 0],\n",
       "       [1, 0],\n",
       "       [1, 0],\n",
       "       [1, 0],\n",
       "       [1, 0],\n",
       "       [1, 0],\n",
       "       [1, 0]])"
      ]
     },
     "execution_count": 11,
     "metadata": {},
     "output_type": "execute_result"
    }
   ],
   "source": [
    "np.einsum(\"t,i->ti\", [0, 0, 1, 1, 1, 1, 1, 1, 1, 1], [1,0])"
   ]
  },
  {
   "cell_type": "markdown",
   "id": "266d5089-e74b-4cbd-8ce2-a07aaa2318ec",
   "metadata": {},
   "source": [
    "Here the first argument `\"t,i->ti\"` indicates the indices of the input arguments (`\"t,i\"`) before the arrow and the indices of the output matrix (`\"ti\"`) after the arrow. Note that for simple cases like outer products between two vectors, there's no need to use [numpy.einsum](https://numpy.org/doc/stable/reference/generated/numpy.einsum.html) instead of [numpy.outer](https://numpy.org/doc/stable/reference/generated/numpy.outer.html). But for more complicated things [numpy.einsum](https://numpy.org/doc/stable/reference/generated/numpy.einsum.html) can be a life saver, as we'll see later on."
   ]
  },
  {
   "cell_type": "markdown",
   "id": "d99307c7-a6aa-4a4f-8aaf-b1de2197d38d",
   "metadata": {},
   "source": [
    "## Transition probability matrices"
   ]
  },
  {
   "cell_type": "markdown",
   "id": "dc71b7a0-d67f-4f28-80d6-3cac5562525d",
   "metadata": {},
   "source": [
    "Okay, so we'll now move on to computing the transition probability matrices $Q$ from the given mortality rates $q$. You'd normally read the mortality rates from a so-called _mortality table_, but here we'll put them in by hand:"
   ]
  },
  {
   "cell_type": "code",
   "execution_count": 12,
   "id": "a7e5dcb6-0697-4fbe-9977-5c8499681c8d",
   "metadata": {},
   "outputs": [
    {
     "data": {
      "text/plain": [
       "array([0.1, 0.1, 0.1, 0.1, 0.1, 0.1, 0.1, 0.1, 0.1, 0.1])"
      ]
     },
     "execution_count": 12,
     "metadata": {},
     "output_type": "execute_result"
    }
   ],
   "source": [
    "q = np.array([0.1] * 10)\n",
    "q"
   ]
  },
  {
   "cell_type": "markdown",
   "id": "6d3ee369-1baa-4e3e-9240-f5e4ff3dcf14",
   "metadata": {},
   "source": [
    "The survival rates $p$ are then simply:"
   ]
  },
  {
   "cell_type": "code",
   "execution_count": 13,
   "id": "7e148306-7ab7-4331-a470-d4a73a949975",
   "metadata": {},
   "outputs": [],
   "source": [
    "p = 1.0 - q"
   ]
  },
  {
   "cell_type": "markdown",
   "id": "866d1cad-9f0a-4e7b-9bb7-4677b9886b22",
   "metadata": {},
   "source": [
    "The full transition probably matrix $Q_{ij}$ is given by:\n",
    "\n",
    "$$\n",
    "Q_{ij} = \\begin{pmatrix} 1 - q & q \\\\ 0 & 1 \\end{pmatrix}\n",
    "$$\n",
    "\n",
    "That is:\n",
    "\n",
    "- $Q_{11}$ is the chance per year to keep on living, namely $1 - q$,\n",
    "- $Q_{12}$ is the chance per year to die, $q$,\n",
    "- $Q_{21}$ is the chance per year to be resurrected,\n",
    "- $Q_{22}$ is the chance per year to stay dead if you're already dead.\n",
    "\n",
    "Note that the rows add up to $1$; this is a so-called [stochastic matrix](https://en.wikipedia.org/wiki/Stochastic_matrix).\n",
    "\n",
    "In normal circumstances, $q$ would be time / year dependent (the older you get the higher the chances are you'll die). But in this notebook we keep the mortality rate fixed at $0.1$.\n",
    "\n",
    "So now for each all mortality rates we have to construct the corresponding transition matrix. We can't use the outer product trick we used for the payments, because the mortality rates could in theory change from year to year. So we do this by constructing four lists for each of the entries of the matrix, and then re-arrange them:"
   ]
  },
  {
   "cell_type": "code",
   "execution_count": 14,
   "id": "0335c687-d0f9-49b9-9dce-5d9ffca26469",
   "metadata": {},
   "outputs": [
    {
     "data": {
      "text/plain": [
       "array([[[0.9, 0.1],\n",
       "        [0. , 1. ]],\n",
       "\n",
       "       [[0.9, 0.1],\n",
       "        [0. , 1. ]],\n",
       "\n",
       "       [[0.9, 0.1],\n",
       "        [0. , 1. ]],\n",
       "\n",
       "       [[0.9, 0.1],\n",
       "        [0. , 1. ]],\n",
       "\n",
       "       [[0.9, 0.1],\n",
       "        [0. , 1. ]],\n",
       "\n",
       "       [[0.9, 0.1],\n",
       "        [0. , 1. ]],\n",
       "\n",
       "       [[0.9, 0.1],\n",
       "        [0. , 1. ]],\n",
       "\n",
       "       [[0.9, 0.1],\n",
       "        [0. , 1. ]],\n",
       "\n",
       "       [[0.9, 0.1],\n",
       "        [0. , 1. ]],\n",
       "\n",
       "       [[0.9, 0.1],\n",
       "        [0. , 1. ]]])"
      ]
     },
     "execution_count": 14,
     "metadata": {},
     "output_type": "execute_result"
    }
   ],
   "source": [
    "Q_11 = 1.0 - q\n",
    "Q_12 = q\n",
    "Q_21 = np.zeros_like(q)\n",
    "Q_22 = np.ones_like(q)\n",
    "Q = np.column_stack([Q_11, Q_12, Q_21, Q_22]).reshape(-1, 2, 2)\n",
    "Q"
   ]
  },
  {
   "cell_type": "markdown",
   "id": "fdcb6330-8589-44f5-9116-19c0cc56559c",
   "metadata": {},
   "source": [
    "### Cumulative transition matrices"
   ]
  },
  {
   "cell_type": "markdown",
   "id": "e18769a2-ee83-48fc-a98c-64b8dd4ef4e1",
   "metadata": {},
   "source": [
    "Now that we have the transition probability matrices, we can proceed to compute the cumulative transition probability matrices. The former describe the chances of making it from year $t$ to year $t=1$, while the latter describe the chances of making it from year $1$ to year $t+1$.\n",
    "\n",
    "We computed the cumulative interest with the [accumulate](https://numpy.org/doc/stable/reference/generated/numpy.ufunc.accumulate.html) method of the universal [multiply](https://numpy.org/doc/stable/reference/generated/numpy.multiply.html) NumPy function. The difference here is that the entries are matrices instead of scalars, so we'll use the [matmul](https://numpy.org/doc/stable/reference/generated/numpy.matmul.html) universal function:"
   ]
  },
  {
   "cell_type": "code",
   "execution_count": 15,
   "id": "36821d4d-8732-4e16-9c78-dbb02aa23e54",
   "metadata": {},
   "outputs": [
    {
     "ename": "RuntimeError",
     "evalue": "Reduction not defined on ufunc with signature",
     "output_type": "error",
     "traceback": [
      "\u001b[31m---------------------------------------------------------------------------\u001b[39m",
      "\u001b[31mRuntimeError\u001b[39m                              Traceback (most recent call last)",
      "\u001b[36mCell\u001b[39m\u001b[36m \u001b[39m\u001b[32mIn[15]\u001b[39m\u001b[32m, line 1\u001b[39m\n\u001b[32m----> \u001b[39m\u001b[32m1\u001b[39m \u001b[43mnp\u001b[49m\u001b[43m.\u001b[49m\u001b[43mmatmul\u001b[49m\u001b[43m.\u001b[49m\u001b[43maccumulate\u001b[49m\u001b[43m(\u001b[49m\u001b[43mQ\u001b[49m\u001b[43m)\u001b[49m\n",
      "\u001b[31mRuntimeError\u001b[39m: Reduction not defined on ufunc with signature"
     ]
    }
   ],
   "source": [
    "np.matmul.accumulate(Q)"
   ]
  },
  {
   "cell_type": "markdown",
   "id": "db6c5f04-a4b2-470b-902b-f4741bfc15ac",
   "metadata": {},
   "source": [
    "Well, that didn't work. Turns out you can't use accumulate with functions that operator on non-scalars!\n",
    "\n",
    "We can cheat a bit by taking only the $Q_{11}$ elements with the help of some [fancy indexing](https://numpy.org/doc/stable/user/basics.indexing.html):"
   ]
  },
  {
   "cell_type": "code",
   "execution_count": 18,
   "id": "21071967-9573-4782-87a5-be043dd59e10",
   "metadata": {},
   "outputs": [
    {
     "data": {
      "text/plain": [
       "array([0.9 , 0.81, 0.73, 0.66, 0.59, 0.53, 0.48, 0.43, 0.39, 0.35])"
      ]
     },
     "execution_count": 18,
     "metadata": {},
     "output_type": "execute_result"
    }
   ],
   "source": [
    "np.multiply.accumulate(Q[:, 0, 0])"
   ]
  },
  {
   "cell_type": "markdown",
   "id": "2cd96e4a-58ed-44f2-a443-9b5913e5ba5e",
   "metadata": {},
   "source": [
    "The colon here means _\"select all elements of this axis\"_.\n",
    "\n",
    "While the above works and is the fastest you can get, it kind of defeats the point that we want to work with full transition matrices. So here we have no choice but to revert to the [itertools accumulate](https://docs.python.org/3/library/itertools.html#itertools.accumulate) version:"
   ]
  },
  {
   "cell_type": "code",
   "execution_count": 19,
   "id": "a5113793-a4f3-4663-83a0-485973bd2d83",
   "metadata": {},
   "outputs": [
    {
     "data": {
      "text/plain": [
       "array([[[0.9 , 0.1 ],\n",
       "        [0.  , 1.  ]],\n",
       "\n",
       "       [[0.81, 0.19],\n",
       "        [0.  , 1.  ]],\n",
       "\n",
       "       [[0.73, 0.27],\n",
       "        [0.  , 1.  ]],\n",
       "\n",
       "       [[0.66, 0.34],\n",
       "        [0.  , 1.  ]],\n",
       "\n",
       "       [[0.59, 0.41],\n",
       "        [0.  , 1.  ]],\n",
       "\n",
       "       [[0.53, 0.47],\n",
       "        [0.  , 1.  ]],\n",
       "\n",
       "       [[0.48, 0.52],\n",
       "        [0.  , 1.  ]],\n",
       "\n",
       "       [[0.43, 0.57],\n",
       "        [0.  , 1.  ]],\n",
       "\n",
       "       [[0.39, 0.61],\n",
       "        [0.  , 1.  ]],\n",
       "\n",
       "       [[0.35, 0.65],\n",
       "        [0.  , 1.  ]]])"
      ]
     },
     "execution_count": 19,
     "metadata": {},
     "output_type": "execute_result"
    }
   ],
   "source": [
    "Q_cum = np.array(list(it.accumulate(Q, np.matmul)))\n",
    "Q_cum"
   ]
  },
  {
   "cell_type": "markdown",
   "id": "7bfde684-8972-4d51-82f4-004a3be15ea1",
   "metadata": {},
   "source": [
    "This is the most elegant way to do cumulative matrix multiplication with NumPy, but as noted before, it is not super-fast because the loop takes place in the Python interpreter. If speed is a must, it might be worthwhile to look at JIT tooling like [Numba](https://numba.pydata.org/) or [Jax](https://docs.jax.dev/) (but that's out of scope for this notebook)."
   ]
  },
  {
   "cell_type": "markdown",
   "id": "dba673db-1021-4d19-8840-40a97e6eee43",
   "metadata": {},
   "source": [
    "## Actuarial factor"
   ]
  },
  {
   "cell_type": "markdown",
   "id": "bba402d5-e6af-4eaf-b5fe-15c20b91bcb5",
   "metadata": {},
   "source": [
    "Okay, so now we have all ingredients for computing the acturial factor and cash flow, namely $Q^{\\textrm{cum}}$, $P$, and $D$. \n",
    "Recall that the factor is given by:\n",
    "$$\n",
    "F_i = \\sum_{t=0}^\\infty \\sum_{j=1}^n Q^{\\textrm{cum}}_{ij}(t) P_j(t) D(t)\n",
    "$$\n",
    "Let's try to put this together and compute the summand $S_i(t) = \\sum_{j=1}^n Q^{\\textrm{cum}}_{ij}(t) P_j(t) D(t)$. This is the matrix product of $Q^{\\textrm{cum}}$ and $P$, multiplied by $D$ for each time $t$:"
   ]
  },
  {
   "cell_type": "code",
   "execution_count": 20,
   "id": "97a7b18d-93ac-4c64-918d-eca55ade5925",
   "metadata": {},
   "outputs": [
    {
     "ename": "ValueError",
     "evalue": "matmul: Input operand 1 has a mismatch in its core dimension 0, with gufunc signature (n?,k),(k,m?)->(n?,m?) (size 10 is different from 2)",
     "output_type": "error",
     "traceback": [
      "\u001b[31m---------------------------------------------------------------------------\u001b[39m",
      "\u001b[31mValueError\u001b[39m                                Traceback (most recent call last)",
      "\u001b[36mCell\u001b[39m\u001b[36m \u001b[39m\u001b[32mIn[20]\u001b[39m\u001b[32m, line 1\u001b[39m\n\u001b[32m----> \u001b[39m\u001b[32m1\u001b[39m S = \u001b[43mQ_cum\u001b[49m\u001b[43m \u001b[49m\u001b[43m@\u001b[49m\u001b[43m \u001b[49m\u001b[43mP\u001b[49m * D\n",
      "\u001b[31mValueError\u001b[39m: matmul: Input operand 1 has a mismatch in its core dimension 0, with gufunc signature (n?,k),(k,m?)->(n?,m?) (size 10 is different from 2)"
     ]
    }
   ],
   "source": [
    "S = Q_cum @ P * D"
   ]
  },
  {
   "cell_type": "markdown",
   "id": "4f567f6a-8890-433d-ae99-a06bf9a34a5a",
   "metadata": {},
   "source": [
    "This didn't work because NumPy doesn't know it do should this element-wise for each year $t$. \n",
    "So tell it explicitly to do so:"
   ]
  },
  {
   "cell_type": "code",
   "execution_count": 21,
   "id": "af59883b-e158-4da8-8ce8-1f6b89f52a68",
   "metadata": {},
   "outputs": [
    {
     "data": {
      "text/plain": [
       "array([[0.  , 0.  ],\n",
       "       [0.  , 0.  ],\n",
       "       [0.63, 0.  ],\n",
       "       [0.54, 0.  ],\n",
       "       [0.46, 0.  ],\n",
       "       [0.4 , 0.  ],\n",
       "       [0.34, 0.  ],\n",
       "       [0.29, 0.  ],\n",
       "       [0.25, 0.  ],\n",
       "       [0.21, 0.  ]])"
      ]
     },
     "execution_count": 21,
     "metadata": {},
     "output_type": "execute_result"
    }
   ],
   "source": [
    "S = np.array([Q_cum[t] @ P[t] * D[t] for t in range(10)])\n",
    "S"
   ]
  },
  {
   "cell_type": "markdown",
   "id": "818ccb38-af04-45f7-8700-2df87cdda332",
   "metadata": {},
   "source": [
    "But this contains a loop, and loops are evil! So let's use [numpy.einsum](https://numpy.org/doc/stable/reference/generated/numpy.einsum.html) to compute the summand. The input indices are as follows:\n",
    "\n",
    "- $Q^{\\textrm{cum}}$: `tij` (the first index corresponds to the time, the second and third to the state),\n",
    "- $P$: `tj` (first index is again time, the second is used in the matrix product with $Q^{\\textrm{cum}}$,\n",
    "- $D$: `t`,\n",
    "\n",
    "while the output indices of $S$ are `ti`. So the Einstein summation can be done like so:"
   ]
  },
  {
   "cell_type": "code",
   "execution_count": 22,
   "id": "9ef28187-cb82-46b5-bf98-60164866cb1b",
   "metadata": {},
   "outputs": [
    {
     "data": {
      "text/plain": [
       "array([[0.  , 0.  ],\n",
       "       [0.  , 0.  ],\n",
       "       [0.63, 0.  ],\n",
       "       [0.54, 0.  ],\n",
       "       [0.46, 0.  ],\n",
       "       [0.4 , 0.  ],\n",
       "       [0.34, 0.  ],\n",
       "       [0.29, 0.  ],\n",
       "       [0.25, 0.  ],\n",
       "       [0.21, 0.  ]])"
      ]
     },
     "execution_count": 22,
     "metadata": {},
     "output_type": "execute_result"
    }
   ],
   "source": [
    "S = np.einsum(\"tij,tj,t->ti\", Q_cum, P, D)\n",
    "S"
   ]
  },
  {
   "cell_type": "markdown",
   "id": "a0ad92fe-b818-4b04-882b-433347023db6",
   "metadata": {},
   "source": [
    "### Speed comparison"
   ]
  },
  {
   "cell_type": "markdown",
   "id": "e39f23e6-8b7a-46ed-8154-9fbea64528e0",
   "metadata": {},
   "source": [
    "The Einstein summation might be a little bit trickier to wrap your head around, but it's about 10 times faster even for short arrays:"
   ]
  },
  {
   "cell_type": "code",
   "execution_count": 23,
   "id": "63efab6d-a399-45cc-b8d7-af1544a09b40",
   "metadata": {},
   "outputs": [
    {
     "name": "stdout",
     "output_type": "stream",
     "text": [
      "12.7 μs ± 184 ns per loop (mean ± std. dev. of 7 runs, 100,000 loops each)\n"
     ]
    }
   ],
   "source": [
    "%timeit np.array([Q_cum[t] @ P[t] * D[t] for t in range(10)])"
   ]
  },
  {
   "cell_type": "code",
   "execution_count": 24,
   "id": "df8ebf4a-8cd4-41cc-9650-1633ddc91d5d",
   "metadata": {},
   "outputs": [
    {
     "name": "stdout",
     "output_type": "stream",
     "text": [
      "1.41 μs ± 6.61 ns per loop (mean ± std. dev. of 7 runs, 1,000,000 loops each)\n"
     ]
    }
   ],
   "source": [
    "%timeit np.einsum(\"tij,tj,t->ti\", Q_cum, P, D)"
   ]
  },
  {
   "cell_type": "markdown",
   "id": "1baf62c3-745d-4cde-b199-a76d34b662e9",
   "metadata": {},
   "source": [
    "### Actuarial factor"
   ]
  },
  {
   "cell_type": "markdown",
   "id": "b26ef3ac-4c20-4c36-b00a-e960933542b0",
   "metadata": {},
   "source": [
    "We're now finally in a position to compute the actuarial factor:"
   ]
  },
  {
   "cell_type": "code",
   "execution_count": 25,
   "id": "48ddadc9-1881-4500-ad4b-6f4fa5b65648",
   "metadata": {},
   "outputs": [
    {
     "data": {
      "text/plain": [
       "array([3.12, 0.  ])"
      ]
     },
     "execution_count": 25,
     "metadata": {},
     "output_type": "execute_result"
    }
   ],
   "source": [
    "F = S.sum(axis=0)\n",
    "F"
   ]
  },
  {
   "cell_type": "markdown",
   "id": "3a9218b0-a8f3-4a62-990d-03588e26831b",
   "metadata": {},
   "source": [
    "The first entry corresponds to the alive state, i.e. if the participant is alive at $t=0$ the factor is $3.12$. If the second entry corresponds to the deceased state, thus if the participant is deceased at $t=0$ the factor is $0$. Since you know the participant is alive at $t=0$, it is sufficient to only look at the factor of the actual state."
   ]
  },
  {
   "cell_type": "markdown",
   "id": "ef7eb383-97eb-4901-b34e-c1a783015572",
   "metadata": {},
   "source": [
    "## Forecast"
   ]
  },
  {
   "cell_type": "markdown",
   "id": "25825f73-1ea7-4fe6-a132-ac180573c29b",
   "metadata": {},
   "source": [
    "Recall that the capital is €100.000,-. The yearly benefit $B$ is the capital divided by the actuarial factor $F$:"
   ]
  },
  {
   "cell_type": "code",
   "execution_count": 26,
   "id": "678c9ded-acb9-4f5b-966e-247d3baac57a",
   "metadata": {},
   "outputs": [
    {
     "data": {
      "text/plain": [
       "32012.155689580944"
      ]
     },
     "execution_count": 26,
     "metadata": {},
     "output_type": "execute_result"
    }
   ],
   "source": [
    "B = 100_000 / F[0]\n",
    "B"
   ]
  },
  {
   "cell_type": "markdown",
   "id": "8f032f32-73c5-4bde-9267-94a555a42e80",
   "metadata": {},
   "source": [
    "Expected payments in the cash flow are undiscounted, so let's remove the discount:"
   ]
  },
  {
   "cell_type": "code",
   "execution_count": 27,
   "id": "109dfe88-fbd7-4abc-aed1-d368d60a25d7",
   "metadata": {},
   "outputs": [
    {
     "data": {
      "text/plain": [
       "array([    0.  ,     0.  , 23336.86, 21003.18, 18902.86, 17012.57,\n",
       "       15311.31, 13780.18, 12402.17, 11161.95])"
      ]
     },
     "execution_count": 27,
     "metadata": {},
     "output_type": "execute_result"
    }
   ],
   "source": [
    "forecast = B * S[:, 0] / D\n",
    "forecast"
   ]
  },
  {
   "cell_type": "markdown",
   "id": "03871ebe-8ea3-47d4-a010-0af093f79b95",
   "metadata": {},
   "source": [
    "This is the same as was listed in the introduction, so yay!\n",
    "The expected total payment over all years is then:"
   ]
  },
  {
   "cell_type": "code",
   "execution_count": 28,
   "id": "9225d403-4bcb-4423-a25a-83444af0b0df",
   "metadata": {},
   "outputs": [
    {
     "data": {
      "text/plain": [
       "132911.07838631232"
      ]
     },
     "execution_count": 28,
     "metadata": {},
     "output_type": "execute_result"
    }
   ],
   "source": [
    "forecast.sum()"
   ]
  }
 ],
 "metadata": {
  "kernelspec": {
   "display_name": "Python 3 (ipykernel)",
   "language": "python",
   "name": "python3"
  },
  "language_info": {
   "codemirror_mode": {
    "name": "ipython",
    "version": 3
   },
   "file_extension": ".py",
   "mimetype": "text/x-python",
   "name": "python",
   "nbconvert_exporter": "python",
   "pygments_lexer": "ipython3",
   "version": "3.11.11"
  }
 },
 "nbformat": 4,
 "nbformat_minor": 5
}
