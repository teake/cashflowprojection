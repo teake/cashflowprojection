{
  "metadata": {
    "kernelspec": {
      "name": "python",
      "display_name": "Python (Pyodide)",
      "language": "python"
    },
    "language_info": {
      "codemirror_mode": {
        "name": "python",
        "version": 3
      },
      "file_extension": ".py",
      "mimetype": "text/x-python",
      "name": "python",
      "nbconvert_exporter": "python",
      "pygments_lexer": "ipython3",
      "version": "3.8"
    }
  },
  "nbformat_minor": 5,
  "nbformat": 4,
  "cells": [
    {
      "id": "6e293d39-0a46-4c5f-8a27-97d8e6d04a9a",
      "cell_type": "markdown",
      "source": "# Forecasting Pension Cash Flow with NumPy",
      "metadata": {}
    },
    {
      "id": "ea8cd465-8d73-4ce0-96ea-8a5a6693ff73",
      "cell_type": "markdown",
      "source": " Teake Nutma, May 2025",
      "metadata": {}
    },
    {
      "id": "7a6f553a-2f41-4a85-baee-0b3c7ea40802",
      "cell_type": "markdown",
      "source": "Hi PyGrunn 2025! 👋",
      "metadata": {}
    },
    {
      "id": "dfa1fac9-5e32-4903-8afe-796782c82e0e",
      "cell_type": "markdown",
      "source": "## Introduction",
      "metadata": {}
    },
    {
      "id": "51e7e938-b020-421b-9703-e17f2710f115",
      "cell_type": "markdown",
      "source": "This notebook computes the cash flow forecast for a temporary retirement pension with:\n\n- a capital of €100.000,-\n- payments that start in two years, run for eight, and stop in ten\n- payments that occur at the end of the year\n- a yearly interest of 5%\n- and mortality rate that starts of at 2% and increases linearly to 20%.\n\nWe'll reproduce the following table with NumPy:\n\n| **Year**  | **Unit payment** | **Chance of survival** | **Cumulative chance of survival** | **Expected unit payment** | **Interest** | **Cumulative interest** | **Discounted expected unit payment** | **Forecast** |\n| --------- | ---------------- | ---------------------- | --------------------------------- | ------------------------- | ------------ | ----------------------- | ------------------------------------ | ------------ |\n| **1**     | 0                | 98%                    | 98%                               | 0,00                      | 5%           | 5%                      | 0,00                                 | € 0          |\n| **2**     | 0                | 96%                    | 94%                               | 0,00                      | 5%           | 10%                     | 0,00                                 | € 0          |\n| **3**     | 1                | 94%                    | 88%                               | 0,88                      | 5%           | 16%                     | 0,76                                 | € 24.360     |\n| **4**     | 1                | 92%                    | 81%                               | 0,81                      | 5%           | 22%                     | 0,67                                 | € 22.412     |\n| **5**     | 1                | 90%                    | 73%                               | 0,73                      | 5%           | 28%                     | 0,57                                 | € 20.170     |\n| **6**     | 1                | 88%                    | 64%                               | 0,64                      | 5%           | 34%                     | 0,48                                 | € 17.750     |\n| **7**     | 1                | 86%                    | 55%                               | 0,55                      | 5%           | 41%                     | 0,39                                 | € 15.265     |\n| **8**     | 1                | 84%                    | 47%                               | 0,47                      | 5%           | 48%                     | 0,32                                 | € 12.823     |\n| **9**     | 1                | 82%                    | 38%                               | 0,38                      | 5%           | 55%                     | 0,25                                 | € 10.515     |\n| **10**    | 1                | 80%                    | 31%                               | 0,31                      | 5%           | 63%                     | 0,19                                 | € 8.412      |\n| **Total** |                  |                        |                                   |                           |              |                         | **3,63**                             | € 131.706    |\n\n\nThe actuarial factor $F$ is equal to the total discounted expected unit payment. The simplified formula we'll use for computing $F$ is as follows:\n$$\nF_i = \\sum_{t=0}^\\infty \\sum_{j=1}^n Q^{\\textrm{cum}}_{ij}(t) P_j(t) D(t)\n$$\nwhere $Q^{\\textrm{cum}}$ are $2 \\times 2$ cumulative transition matrices, $P$ are the unit payment vectors, and $D$ is the discounted value based on an interest curve. The indices $i,j$ run over the possible $n=2$ states, namely participant alive ($i=1$) and participant deceased ($i=2$).",
      "metadata": {},
      "attachments": {}
    },
    {
      "id": "7b1868e8-459f-48e5-861b-df9ec7a05b44",
      "cell_type": "markdown",
      "source": "Ok, that's enough talk for now. Let's start by importing NumPy and the `itertools` package from the stdlib. We'll also restrict to only two decimals for printouts.",
      "metadata": {}
    },
    {
      "id": "98a1f2be-fb3a-449f-b7e7-6b8935eedabe",
      "cell_type": "code",
      "source": "import numpy as np\nimport itertools as it\n\nnp.set_printoptions(precision=2)",
      "metadata": {
        "trusted": true
      },
      "outputs": [],
      "execution_count": 1
    },
    {
      "id": "bfd7ce12-3f7d-4beb-a444-259ead8fd102",
      "cell_type": "markdown",
      "source": "This notebook is structured as follows:\n\n- We'll start by computing the discount value $D$,\n- move on to the unit payment vectors $P$,\n- then the cumulative transition matrices $Q^{\\textrm{cum}}$,\n- and finish by putting that all together for the factor $F$.",
      "metadata": {}
    },
    {
      "id": "5c1784ce-1153-480f-8ed4-dc60da3f2cda",
      "cell_type": "markdown",
      "source": "## Interest",
      "metadata": {}
    },
    {
      "id": "ed1a8d38-46a0-4359-a07f-1c468c8684c1",
      "cell_type": "markdown",
      "source": "Let's start by putting in the fixed 5% interest by hand:",
      "metadata": {}
    },
    {
      "id": "93831570-3b74-4e1d-9515-35cfa8bd9c44",
      "cell_type": "code",
      "source": "i = np.linspace(0.05, 0.05, num=10)\ni",
      "metadata": {
        "trusted": true
      },
      "outputs": [
        {
          "execution_count": 2,
          "output_type": "execute_result",
          "data": {
            "text/plain": "array([0.05, 0.05, 0.05, 0.05, 0.05, 0.05, 0.05, 0.05, 0.05, 0.05])"
          },
          "metadata": {}
        }
      ],
      "execution_count": 2
    },
    {
      "id": "88a8fa53-5984-42a5-85eb-508f2e8eb23a",
      "cell_type": "markdown",
      "source": "We need to compute the year-by-year accumulated interest. We can do this very naively with a loop:",
      "metadata": {}
    },
    {
      "id": "7cca96e3-32b7-4cb0-bff7-81376d1af500",
      "cell_type": "code",
      "source": "i_cum = []\nprev = 1.0\nfor x in i + 1.0:\n    i_cum.append(prev := x * prev)\nnp.array(i_cum) - 1.0",
      "metadata": {
        "trusted": true
      },
      "outputs": [
        {
          "execution_count": 3,
          "output_type": "execute_result",
          "data": {
            "text/plain": "array([0.05, 0.1 , 0.16, 0.22, 0.28, 0.34, 0.41, 0.48, 0.55, 0.63])"
          },
          "metadata": {}
        }
      ],
      "execution_count": 3
    },
    {
      "id": "da7aa379-0a70-48f4-b65e-191e98db6254",
      "cell_type": "markdown",
      "source": "While this makes use of [broadcasting](https://numpy.org/doc/stable/user/basics.broadcasting.html) with the addition and subtraction of `1.0`, we can do clearly better and get rid of the explicit loop with [itertools.accumulate](https://docs.python.org/3/library/itertools.html#itertools.accumulate):",
      "metadata": {}
    },
    {
      "id": "2dbded6e-ac0c-4889-986d-744213b918a8",
      "cell_type": "code",
      "source": "np.array(list(it.accumulate(i + 1.0, np.multiply))) - 1.0",
      "metadata": {
        "trusted": true
      },
      "outputs": [
        {
          "execution_count": 4,
          "output_type": "execute_result",
          "data": {
            "text/plain": "array([0.05, 0.1 , 0.16, 0.22, 0.28, 0.34, 0.41, 0.48, 0.55, 0.63])"
          },
          "metadata": {}
        }
      ],
      "execution_count": 4
    },
    {
      "id": "5b723a6a-41bf-4535-a20f-3ca2baa039b5",
      "cell_type": "markdown",
      "source": "But [itertools.accumulate](https://docs.python.org/3/library/itertools.html#itertools.accumulate) still evaluates the loop in the Python interpreter. We can do one better still, and use a NumPy [universal function](https://numpy.org/doc/stable/reference/ufuncs.html) to push the computation down to the C level:",
      "metadata": {}
    },
    {
      "id": "ee42d943-024e-45c3-823e-1f7036ca1217",
      "cell_type": "code",
      "source": "i_cum = np.multiply.accumulate(i + 1.0) - 1.0\ni_cum",
      "metadata": {
        "trusted": true
      },
      "outputs": [
        {
          "execution_count": 5,
          "output_type": "execute_result",
          "data": {
            "text/plain": "array([0.05, 0.1 , 0.16, 0.22, 0.28, 0.34, 0.41, 0.48, 0.55, 0.63])"
          },
          "metadata": {}
        }
      ],
      "execution_count": 5
    },
    {
      "id": "74547e50-90a3-4b64-b78c-f23ec14b70f8",
      "cell_type": "markdown",
      "source": "### Speed comparison",
      "metadata": {}
    },
    {
      "id": "ea6508cb-3cdd-4ff9-b979-d3d3f3eb2b4b",
      "cell_type": "markdown",
      "source": "Not only is `np.multiply.accumulate` more concise, it is also faster:",
      "metadata": {}
    },
    {
      "id": "a4ff6d3d-ea66-4f0d-83c9-008d022178a5",
      "cell_type": "code",
      "source": "%timeit np.array(list(it.accumulate(i + 1.0, np.multiply))) - 1.0",
      "metadata": {
        "trusted": true
      },
      "outputs": [
        {
          "name": "stdout",
          "output_type": "stream",
          "text": "13.7 µs ± 107 ns per loop (mean ± std. dev. of 7 runs, 100,000 loops each)\n"
        }
      ],
      "execution_count": 6
    },
    {
      "id": "f31436b5-0c7d-4960-8e3f-ce083228db75",
      "cell_type": "code",
      "source": "%timeit np.multiply.accumulate(i + 1.0) - 1.0",
      "metadata": {
        "trusted": true
      },
      "outputs": [
        {
          "name": "stdout",
          "output_type": "stream",
          "text": "2.03 µs ± 30.3 ns per loop (mean ± std. dev. of 7 runs, 1,000,000 loops each)\n"
        }
      ],
      "execution_count": 7
    },
    {
      "id": "6dce5c5a-fc95-4c5b-a218-44506c9aa73c",
      "cell_type": "markdown",
      "source": "That's about 5 times faster! Because the input array is small, there's relatively much time spent on overhead. With larger arrays, the speed difference becomes more prominent.",
      "metadata": {}
    },
    {
      "id": "c6eb2969-5f05-4b9d-8654-12cb98616f4d",
      "cell_type": "markdown",
      "source": "### Discounted value",
      "metadata": {}
    },
    {
      "id": "9d2bfdc4-9ead-496d-bbc8-4849c1c2ad65",
      "cell_type": "markdown",
      "source": "And now finally the discounted value per year becomes the following:",
      "metadata": {}
    },
    {
      "id": "2add6c57-316c-42ea-bb9a-49de25b111b8",
      "cell_type": "code",
      "source": "D = 1.0 / (i_cum + 1.0)\nD",
      "metadata": {
        "trusted": true
      },
      "outputs": [
        {
          "execution_count": 8,
          "output_type": "execute_result",
          "data": {
            "text/plain": "array([0.95, 0.91, 0.86, 0.82, 0.78, 0.75, 0.71, 0.68, 0.64, 0.61])"
          },
          "metadata": {}
        }
      ],
      "execution_count": 8
    },
    {
      "id": "65193eb5-40ba-4cf1-a365-93dea60e1ce8",
      "cell_type": "markdown",
      "source": "## Unit payments",
      "metadata": {}
    },
    {
      "id": "cf1579f1-ffdf-4814-bddb-6a004dbae4cd",
      "cell_type": "markdown",
      "source": "Okay, so let's now construct the list of unit payment vectors by hand. (You'd normally construct this list from a given start date and a given end date).\n\nThe first two years are non-paying, while the last eight years are paying. But only in state 1 (alive); state 2 (deceased) does not give a payment. A single payment vector $p_i$ is thus `[1, 0]`. To build the full list $P_i(t)$ of payment vectors for all ten years, we can simply take the outer product of the payment vector with a list $\\delta_t$ containing zeroes for non-paying years, and ones for paying years:\n\n$$\nP_i(t) = \\delta_t \\otimes p_i\n$$\n\nThis can be done with [numpy.outer](https://numpy.org/doc/stable/reference/generated/numpy.outer.html):",
      "metadata": {}
    },
    {
      "id": "8bff523a-0fa7-4a1c-b9c7-255b2fd8022e",
      "cell_type": "code",
      "source": "p = [1,0]\nd = [0, 0, 1, 1, 1, 1, 1, 1, 1, 1]",
      "metadata": {
        "trusted": true
      },
      "outputs": [],
      "execution_count": 9
    },
    {
      "id": "18b8ee4f-58d6-4bef-aa67-8904bd030533",
      "cell_type": "code",
      "source": "P = np.outer(d, p)\nP",
      "metadata": {
        "trusted": true
      },
      "outputs": [
        {
          "execution_count": 10,
          "output_type": "execute_result",
          "data": {
            "text/plain": "array([[0, 0],\n       [0, 0],\n       [1, 0],\n       [1, 0],\n       [1, 0],\n       [1, 0],\n       [1, 0],\n       [1, 0],\n       [1, 0],\n       [1, 0]])"
          },
          "metadata": {}
        }
      ],
      "execution_count": 10
    },
    {
      "id": "2dfd4773-c1e1-4ddd-82f5-9ded837b8773",
      "cell_type": "markdown",
      "source": "But there's more than one way to skin a cat. We can also use the [numpy.einsum](https://numpy.org/doc/stable/reference/generated/numpy.einsum.html) method to compute the outer product:",
      "metadata": {}
    },
    {
      "id": "2a25cb49-c2ff-4db6-b5b0-4842563c87dd",
      "cell_type": "code",
      "source": "np.einsum(\"t,i->ti\", d, p)",
      "metadata": {
        "trusted": true
      },
      "outputs": [
        {
          "execution_count": 11,
          "output_type": "execute_result",
          "data": {
            "text/plain": "array([[0, 0],\n       [0, 0],\n       [1, 0],\n       [1, 0],\n       [1, 0],\n       [1, 0],\n       [1, 0],\n       [1, 0],\n       [1, 0],\n       [1, 0]])"
          },
          "metadata": {}
        }
      ],
      "execution_count": 11
    },
    {
      "id": "266d5089-e74b-4cbd-8ce2-a07aaa2318ec",
      "cell_type": "markdown",
      "source": "Here the first argument `\"t,i->ti\"` indicates the indices of the input arguments (`\"t,i\"`) before the arrow and the indices of the output matrix (`\"ti\"`) after the arrow. Note that for simple cases like outer products between two vectors, there's no need to use [numpy.einsum](https://numpy.org/doc/stable/reference/generated/numpy.einsum.html) instead of [numpy.outer](https://numpy.org/doc/stable/reference/generated/numpy.outer.html). But for more complicated things [numpy.einsum](https://numpy.org/doc/stable/reference/generated/numpy.einsum.html) can be a life saver, as we'll see later on.",
      "metadata": {}
    },
    {
      "id": "d99307c7-a6aa-4a4f-8aaf-b1de2197d38d",
      "cell_type": "markdown",
      "source": "## Transition probability matrices",
      "metadata": {}
    },
    {
      "id": "dc71b7a0-d67f-4f28-80d6-3cac5562525d",
      "cell_type": "markdown",
      "source": "Okay, so we'll now move on to computing the transition probability matrices $Q$ from the given mortality rates $q$. You'd normally read the mortality rates from a so-called _mortality table_, but here we'll put them in by hand:",
      "metadata": {}
    },
    {
      "id": "a7e5dcb6-0697-4fbe-9977-5c8499681c8d",
      "cell_type": "code",
      "source": "q = np.linspace(0.02, 0.20, num=10)\nq",
      "metadata": {
        "trusted": true
      },
      "outputs": [
        {
          "execution_count": 12,
          "output_type": "execute_result",
          "data": {
            "text/plain": "array([0.02, 0.04, 0.06, 0.08, 0.1 , 0.12, 0.14, 0.16, 0.18, 0.2 ])"
          },
          "metadata": {}
        }
      ],
      "execution_count": 12
    },
    {
      "id": "866d1cad-9f0a-4e7b-9bb7-4677b9886b22",
      "cell_type": "markdown",
      "source": "The full transition probably matrix $Q_{ij}$ is given by:\n\n$$\nQ_{ij} = \\begin{pmatrix} 1 - q & q \\\\ 0 & 1 \\end{pmatrix}\n$$\n\nThat is:\n\n- $Q_{11}$ is the chance per year to keep on living, namely $1 - q$,\n- $Q_{12}$ is the chance per year to die, $q$,\n- $Q_{21}$ is the chance per year to be resurrected,\n- $Q_{22}$ is the chance per year to stay dead if you're already dead.\n\nNote that the rows add up to $1$; this is a so-called [stochastic matrix](https://en.wikipedia.org/wiki/Stochastic_matrix).\n\nSo now for each all mortality rates we have to construct the corresponding transition matrix. We can't use the outer product trick we used for the payments, because the mortality rates change from year to year. So we do this by constructing four lists for each of the entries of the matrix, and then re-arrange them:",
      "metadata": {}
    },
    {
      "id": "0335c687-d0f9-49b9-9dce-5d9ffca26469",
      "cell_type": "code",
      "source": "Q_11 = 1.0 - q\nQ_12 = q\nQ_21 = np.zeros_like(q)\nQ_22 = np.ones_like(q)\nQ = np.column_stack([Q_11, Q_12, Q_21, Q_22])\nQ",
      "metadata": {
        "trusted": true
      },
      "outputs": [
        {
          "execution_count": 13,
          "output_type": "execute_result",
          "data": {
            "text/plain": "array([[0.98, 0.02, 0.  , 1.  ],\n       [0.96, 0.04, 0.  , 1.  ],\n       [0.94, 0.06, 0.  , 1.  ],\n       [0.92, 0.08, 0.  , 1.  ],\n       [0.9 , 0.1 , 0.  , 1.  ],\n       [0.88, 0.12, 0.  , 1.  ],\n       [0.86, 0.14, 0.  , 1.  ],\n       [0.84, 0.16, 0.  , 1.  ],\n       [0.82, 0.18, 0.  , 1.  ],\n       [0.8 , 0.2 , 0.  , 1.  ]])"
          },
          "metadata": {}
        }
      ],
      "execution_count": 13
    },
    {
      "id": "f882d062-b044-425a-a27e-34685ac4e84c",
      "cell_type": "markdown",
      "source": "This is still not quite right; the ordering is ok but the entires are not $2 \\times 2$ matrices yet. We can change the shape without copying the data with [numpy.reshape](https://numpy.org/doc/stable/reference/generated/numpy.reshape.html):",
      "metadata": {}
    },
    {
      "id": "d6d8eefc-262b-4292-8f5f-145b391c57db",
      "cell_type": "code",
      "source": "Q = Q.reshape(-1, 2, 2)\nQ",
      "metadata": {
        "trusted": true
      },
      "outputs": [
        {
          "execution_count": 14,
          "output_type": "execute_result",
          "data": {
            "text/plain": "array([[[0.98, 0.02],\n        [0.  , 1.  ]],\n\n       [[0.96, 0.04],\n        [0.  , 1.  ]],\n\n       [[0.94, 0.06],\n        [0.  , 1.  ]],\n\n       [[0.92, 0.08],\n        [0.  , 1.  ]],\n\n       [[0.9 , 0.1 ],\n        [0.  , 1.  ]],\n\n       [[0.88, 0.12],\n        [0.  , 1.  ]],\n\n       [[0.86, 0.14],\n        [0.  , 1.  ]],\n\n       [[0.84, 0.16],\n        [0.  , 1.  ]],\n\n       [[0.82, 0.18],\n        [0.  , 1.  ]],\n\n       [[0.8 , 0.2 ],\n        [0.  , 1.  ]]])"
          },
          "metadata": {}
        }
      ],
      "execution_count": 14
    },
    {
      "id": "ae5a6a4a-15c3-4681-980f-59669db43d85",
      "cell_type": "markdown",
      "source": "The `-1` means _\"automatically compute the size of this axis such that number of entries match\"_.",
      "metadata": {}
    },
    {
      "id": "fdcb6330-8589-44f5-9116-19c0cc56559c",
      "cell_type": "markdown",
      "source": "### Cumulative transition matrices",
      "metadata": {}
    },
    {
      "id": "e18769a2-ee83-48fc-a98c-64b8dd4ef4e1",
      "cell_type": "markdown",
      "source": "Now that we have the transition probability matrices, we can proceed to compute the cumulative transition probability matrices. The former describe the chances of making it from year $t$ to year $t=1$, while the latter describe the chances of making it from year $1$ to year $t+1$.\n\nWe computed the cumulative interest with the [accumulate](https://numpy.org/doc/stable/reference/generated/numpy.ufunc.accumulate.html) method of the universal [multiply](https://numpy.org/doc/stable/reference/generated/numpy.multiply.html) NumPy function. The difference here is that the entries are matrices instead of scalars, so we'll use the [matmul](https://numpy.org/doc/stable/reference/generated/numpy.matmul.html) universal function:",
      "metadata": {}
    },
    {
      "id": "36821d4d-8732-4e16-9c78-dbb02aa23e54",
      "cell_type": "code",
      "source": "np.matmul.accumulate(Q)",
      "metadata": {
        "trusted": true
      },
      "outputs": [
        {
          "ename": "<class 'RuntimeError'>",
          "evalue": "Reduction not defined on ufunc with signature",
          "traceback": [
            "\u001b[0;31m---------------------------------------------------------------------------\u001b[0m",
            "\u001b[0;31mRuntimeError\u001b[0m                              Traceback (most recent call last)",
            "Cell \u001b[0;32mIn[15], line 1\u001b[0m\n\u001b[0;32m----> 1\u001b[0m \u001b[43mnp\u001b[49m\u001b[38;5;241;43m.\u001b[39;49m\u001b[43mmatmul\u001b[49m\u001b[38;5;241;43m.\u001b[39;49m\u001b[43maccumulate\u001b[49m\u001b[43m(\u001b[49m\u001b[43mQ\u001b[49m\u001b[43m)\u001b[49m\n",
            "\u001b[0;31mRuntimeError\u001b[0m: Reduction not defined on ufunc with signature"
          ],
          "output_type": "error"
        }
      ],
      "execution_count": 15
    },
    {
      "id": "db6c5f04-a4b2-470b-902b-f4741bfc15ac",
      "cell_type": "markdown",
      "source": "Well, that didn't work. Turns out you can't use accumulate with functions that operator on non-scalars!\n\nSo let's revert to the [itertools accumulate](https://docs.python.org/3/library/itertools.html#itertools.accumulate) version:",
      "metadata": {}
    },
    {
      "id": "a5113793-a4f3-4663-83a0-485973bd2d83",
      "cell_type": "code",
      "source": "Q_cum = np.array(list(it.accumulate(Q, np.matmul)))\nQ_cum",
      "metadata": {
        "trusted": true
      },
      "outputs": [
        {
          "execution_count": 16,
          "output_type": "execute_result",
          "data": {
            "text/plain": "array([[[0.98, 0.02],\n        [0.  , 1.  ]],\n\n       [[0.94, 0.06],\n        [0.  , 1.  ]],\n\n       [[0.88, 0.12],\n        [0.  , 1.  ]],\n\n       [[0.81, 0.19],\n        [0.  , 1.  ]],\n\n       [[0.73, 0.27],\n        [0.  , 1.  ]],\n\n       [[0.64, 0.36],\n        [0.  , 1.  ]],\n\n       [[0.55, 0.45],\n        [0.  , 1.  ]],\n\n       [[0.47, 0.53],\n        [0.  , 1.  ]],\n\n       [[0.38, 0.62],\n        [0.  , 1.  ]],\n\n       [[0.31, 0.69],\n        [0.  , 1.  ]]])"
          },
          "metadata": {}
        }
      ],
      "execution_count": 16
    },
    {
      "id": "7bfde684-8972-4d51-82f4-004a3be15ea1",
      "cell_type": "markdown",
      "source": "This is the most elegant way to do cumulative matrix multiplication with NumPy, but as noted before, it is not super-fast because the loop takes place in the Python interpreter. If speed is a must, it might be worthwhile to look at JIT tooling like [Numba](https://numba.pydata.org/) or [Jax](https://docs.jax.dev/) (but that's out of scope for this notebook).",
      "metadata": {}
    },
    {
      "id": "dba673db-1021-4d19-8840-40a97e6eee43",
      "cell_type": "markdown",
      "source": "## Actuarial factor",
      "metadata": {}
    },
    {
      "id": "bba402d5-e6af-4eaf-b5fe-15c20b91bcb5",
      "cell_type": "markdown",
      "source": "Okay, so now we have all ingredients for computing the acturial factor and cash flow, namely $Q^{\\textrm{cum}}$, $P$, and $D$. \nRecall that the factor is given by:\n$$\nF_i = \\sum_{t=0}^\\infty \\sum_{j=1}^n Q^{\\textrm{cum}}_{ij}(t) P_j(t) D(t)\n$$\nLet's try to put this together and compute the summand $S_i(t) = \\sum_{j=1}^n Q^{\\textrm{cum}}_{ij}(t) P_j(t) D(t)$. This is the matrix product of $Q^{\\textrm{cum}}$ and $P$, multiplied by $D$ for each time $t$:",
      "metadata": {}
    },
    {
      "id": "97a7b18d-93ac-4c64-918d-eca55ade5925",
      "cell_type": "code",
      "source": "S = Q_cum @ P * D",
      "metadata": {
        "trusted": true
      },
      "outputs": [
        {
          "ename": "<class 'ValueError'>",
          "evalue": "matmul: Input operand 1 has a mismatch in its core dimension 0, with gufunc signature (n?,k),(k,m?)->(n?,m?) (size 10 is different from 2)",
          "traceback": [
            "\u001b[0;31m---------------------------------------------------------------------------\u001b[0m",
            "\u001b[0;31mValueError\u001b[0m                                Traceback (most recent call last)",
            "Cell \u001b[0;32mIn[17], line 1\u001b[0m\n\u001b[0;32m----> 1\u001b[0m S \u001b[38;5;241m=\u001b[39m \u001b[43mQ_cum\u001b[49m\u001b[43m \u001b[49m\u001b[38;5;241;43m@\u001b[39;49m\u001b[43m \u001b[49m\u001b[43mP\u001b[49m \u001b[38;5;241m*\u001b[39m D\n",
            "\u001b[0;31mValueError\u001b[0m: matmul: Input operand 1 has a mismatch in its core dimension 0, with gufunc signature (n?,k),(k,m?)->(n?,m?) (size 10 is different from 2)"
          ],
          "output_type": "error"
        }
      ],
      "execution_count": 17
    },
    {
      "id": "4f567f6a-8890-433d-ae99-a06bf9a34a5a",
      "cell_type": "markdown",
      "source": "This didn't work because NumPy doesn't know it do should this element-wise for each year $t$. \nSo tell it explicitly to do so:",
      "metadata": {}
    },
    {
      "id": "af59883b-e158-4da8-8ce8-1f6b89f52a68",
      "cell_type": "code",
      "source": "S = np.array([Q_cum[t] @ P[t] * D[t] for t in range(10)])\nS",
      "metadata": {
        "trusted": true
      },
      "outputs": [
        {
          "execution_count": 18,
          "output_type": "execute_result",
          "data": {
            "text/plain": "array([[0.  , 0.  ],\n       [0.  , 0.  ],\n       [0.76, 0.  ],\n       [0.67, 0.  ],\n       [0.57, 0.  ],\n       [0.48, 0.  ],\n       [0.39, 0.  ],\n       [0.32, 0.  ],\n       [0.25, 0.  ],\n       [0.19, 0.  ]])"
          },
          "metadata": {}
        }
      ],
      "execution_count": 18
    },
    {
      "id": "818ccb38-af04-45f7-8700-2df87cdda332",
      "cell_type": "markdown",
      "source": "But this contains a loop, and loops are evil! So let's use [numpy.einsum](https://numpy.org/doc/stable/reference/generated/numpy.einsum.html) to compute the summand. The input indices are as follows:\n\n- $Q^{\\textrm{cum}}$: `tij` (the first index corresponds to the time, the second and third to the state),\n- $P$: `tj` (first index is again time, the second is used in the matrix product with $Q^{\\textrm{cum}}$,\n- $D$: `t`,\n\nwhile the output indices of $S$ are `ti`. So the Einstein summation can be done like so:",
      "metadata": {}
    },
    {
      "id": "9ef28187-cb82-46b5-bf98-60164866cb1b",
      "cell_type": "code",
      "source": "S = np.einsum(\"tij,tj,t->ti\", Q_cum, P, D)\nS",
      "metadata": {
        "trusted": true
      },
      "outputs": [
        {
          "execution_count": 19,
          "output_type": "execute_result",
          "data": {
            "text/plain": "array([[0.  , 0.  ],\n       [0.  , 0.  ],\n       [0.76, 0.  ],\n       [0.67, 0.  ],\n       [0.57, 0.  ],\n       [0.48, 0.  ],\n       [0.39, 0.  ],\n       [0.32, 0.  ],\n       [0.25, 0.  ],\n       [0.19, 0.  ]])"
          },
          "metadata": {}
        }
      ],
      "execution_count": 19
    },
    {
      "id": "a0ad92fe-b818-4b04-882b-433347023db6",
      "cell_type": "markdown",
      "source": "### Speed comparison",
      "metadata": {}
    },
    {
      "id": "e39f23e6-8b7a-46ed-8154-9fbea64528e0",
      "cell_type": "markdown",
      "source": "The Einstein summation might be a little bit trickier to wrap your head around, but it's about 10 times faster even for short arrays:",
      "metadata": {}
    },
    {
      "id": "63efab6d-a399-45cc-b8d7-af1544a09b40",
      "cell_type": "code",
      "source": "%timeit np.array([Q_cum[t] @ P[t] * D[t] for t in range(10)])",
      "metadata": {
        "trusted": true
      },
      "outputs": [
        {
          "name": "stdout",
          "output_type": "stream",
          "text": "26.5 µs ± 616 ns per loop (mean ± std. dev. of 7 runs, 10,000 loops each)\n"
        }
      ],
      "execution_count": 20
    },
    {
      "id": "df8ebf4a-8cd4-41cc-9650-1633ddc91d5d",
      "cell_type": "code",
      "source": "%timeit np.einsum(\"tij,tj,t->ti\", Q_cum, P, D)",
      "metadata": {
        "trusted": true
      },
      "outputs": [
        {
          "name": "stdout",
          "output_type": "stream",
          "text": "3.62 µs ± 53.6 ns per loop (mean ± std. dev. of 7 runs, 100,000 loops each)\n"
        }
      ],
      "execution_count": 21
    },
    {
      "id": "1baf62c3-745d-4cde-b199-a76d34b662e9",
      "cell_type": "markdown",
      "source": "### Actuarial factor",
      "metadata": {}
    },
    {
      "id": "b26ef3ac-4c20-4c36-b00a-e960933542b0",
      "cell_type": "markdown",
      "source": "We're now finally in a position to compute the actuarial factor:",
      "metadata": {}
    },
    {
      "id": "48ddadc9-1881-4500-ad4b-6f4fa5b65648",
      "cell_type": "code",
      "source": "F = S.sum(axis=0)\nF",
      "metadata": {
        "trusted": true
      },
      "outputs": [
        {
          "execution_count": 22,
          "output_type": "execute_result",
          "data": {
            "text/plain": "array([3.63, 0.  ])"
          },
          "metadata": {}
        }
      ],
      "execution_count": 22
    },
    {
      "id": "3a9218b0-a8f3-4a62-990d-03588e26831b",
      "cell_type": "markdown",
      "source": "The first entry corresponds to the alive state, i.e. if the participant is alive at $t=0$ the factor is $3.12$. If the second entry corresponds to the deceased state, thus if the participant is deceased at $t=0$ the factor is $0$. Since you know the participant is alive at $t=0$, it is sufficient to only look at the factor of the actual state.",
      "metadata": {}
    },
    {
      "id": "ef7eb383-97eb-4901-b34e-c1a783015572",
      "cell_type": "markdown",
      "source": "## Forecast",
      "metadata": {}
    },
    {
      "id": "25825f73-1ea7-4fe6-a132-ac180573c29b",
      "cell_type": "markdown",
      "source": "Recall that the capital is €100.000,-. The yearly benefit $B$ is the capital divided by the actuarial factor $F$:",
      "metadata": {}
    },
    {
      "id": "678c9ded-acb9-4f5b-966e-247d3baac57a",
      "cell_type": "code",
      "source": "B = 100_000 / F[0]\nB",
      "metadata": {
        "trusted": true
      },
      "outputs": [
        {
          "execution_count": 23,
          "output_type": "execute_result",
          "data": {
            "text/plain": "np.float64(27546.068570616226)"
          },
          "metadata": {}
        }
      ],
      "execution_count": 23
    },
    {
      "id": "8f032f32-73c5-4bde-9267-94a555a42e80",
      "cell_type": "markdown",
      "source": "Expected payments in the cash flow are undiscounted, so let's remove the discount:",
      "metadata": {}
    },
    {
      "id": "109dfe88-fbd7-4abc-aed1-d368d60a25d7",
      "cell_type": "code",
      "source": "forecast = B * S[:, 0] / D\nforecast",
      "metadata": {
        "trusted": true
      },
      "outputs": [
        {
          "execution_count": 24,
          "output_type": "execute_result",
          "data": {
            "text/plain": "array([    0.  ,     0.  , 24360.42, 22411.59, 20170.43, 17749.98,\n       15264.98, 12822.58, 10514.52,  8411.61])"
          },
          "metadata": {}
        }
      ],
      "execution_count": 24
    },
    {
      "id": "03871ebe-8ea3-47d4-a010-0af093f79b95",
      "cell_type": "markdown",
      "source": "We've used a bit of [fancy indexing](https://numpy.org/doc/stable/user/basics.indexing.html) here. The colon here means _\"select all elements of this axis\"_.\n\nThe forecast is the same as was listed in the introduction, so yay!\nThe expected total payment over all years is then:",
      "metadata": {}
    },
    {
      "id": "9225d403-4bcb-4423-a25a-83444af0b0df",
      "cell_type": "code",
      "source": "forecast.sum()",
      "metadata": {
        "trusted": true
      },
      "outputs": [
        {
          "execution_count": 25,
          "output_type": "execute_result",
          "data": {
            "text/plain": "np.float64(131706.1102579442)"
          },
          "metadata": {}
        }
      ],
      "execution_count": 25
    },
    {
      "id": "c5786117-089f-478a-86ac-f66bbed31227",
      "cell_type": "markdown",
      "source": "",
      "metadata": {}
    }
  ]
}